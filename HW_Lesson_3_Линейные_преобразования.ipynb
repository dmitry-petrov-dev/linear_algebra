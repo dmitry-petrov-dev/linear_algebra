{
  "nbformat": 4,
  "nbformat_minor": 0,
  "metadata": {
    "colab": {
      "name": "HW_Lesson_3. Линейные преобразования.ipynb",
      "provenance": [],
      "authorship_tag": "ABX9TyMdtLx2rD/8Ai5QExVy8NbI",
      "include_colab_link": true
    },
    "kernelspec": {
      "name": "python3",
      "display_name": "Python 3"
    },
    "language_info": {
      "name": "python"
    }
  },
  "cells": [
    {
      "cell_type": "markdown",
      "metadata": {
        "id": "view-in-github",
        "colab_type": "text"
      },
      "source": [
        "<a href=\"https://colab.research.google.com/github/dmitry-petrov-dev/linear_algebra/blob/lesson3/HW_Lesson_3_%D0%9B%D0%B8%D0%BD%D0%B5%D0%B9%D0%BD%D1%8B%D0%B5_%D0%BF%D1%80%D0%B5%D0%BE%D0%B1%D1%80%D0%B0%D0%B7%D0%BE%D0%B2%D0%B0%D0%BD%D0%B8%D1%8F.ipynb\" target=\"_parent\"><img src=\"https://colab.research.google.com/assets/colab-badge.svg\" alt=\"Open In Colab\"/></a>"
      ]
    },
    {
      "cell_type": "code",
      "metadata": {
        "id": "PCfw-o4ArF4k"
      },
      "source": [
        "import numpy as np\n",
        "from math import sqrt"
      ],
      "execution_count": 1,
      "outputs": []
    },
    {
      "cell_type": "markdown",
      "metadata": {
        "id": "ZuSYXNXyrKbe"
      },
      "source": [
        "__1.__ Найти собственные векторы и собственные значения для линейного оператора, заданного матрицей\n",
        "\n",
        "$$A=\\begin{pmatrix}\n",
        "-1 & -6\\\\ \n",
        "2 & 6\n",
        "\\end{pmatrix}.$$\n",
        "\n"
      ]
    },
    {
      "cell_type": "markdown",
      "metadata": {
        "id": "UozJZb76s07k"
      },
      "source": [
        "$\\begin{vmatrix}\n",
        "-1-\\lambda  & -6\\\\ \n",
        "2 & 6-\\lambda\n",
        "\\end{vmatrix} = 0$\n",
        "\n",
        "$(-1-\\lambda)(6-\\lambda)-2\\cdot(-6)=0$\n",
        "\n",
        "$-6+\\lambda -6\\lambda+\\lambda^2+12=0$\n",
        "\n",
        "$\\lambda^2 -5\\lambda+6=0$"
      ]
    },
    {
      "cell_type": "markdown",
      "metadata": {
        "id": "EvAuiZDmu1kA"
      },
      "source": [
        "Собственные значения:\n",
        "\n",
        "$\\lambda_{1} = 2, \\lambda_{2} = 3$"
      ]
    },
    {
      "cell_type": "markdown",
      "metadata": {
        "id": "RVZpNaqZvEyp"
      },
      "source": [
        "$\\begin{pmatrix}\n",
        "-1-\\lambda & -6\\\\ \n",
        "2 & 6-\\lambda\n",
        "\\end{pmatrix}\n",
        "\\begin{pmatrix}\n",
        "x_{1}\\\\ \n",
        "x_{2}\n",
        "\\end{pmatrix}=\n",
        "0\n",
        "$"
      ]
    },
    {
      "cell_type": "markdown",
      "metadata": {
        "id": "ABmPBiH12XTv"
      },
      "source": [
        "$\\lambda_{1} = 2$:\n",
        "\n",
        "$\\begin{cases}\n",
        "(-1-2)x_{1}-6x_{2}=0 \\\\\n",
        "2x_{1}+(6-2)x_{2}=0\n",
        "\\end{cases}$\n",
        "\n",
        "$\\begin{cases}\n",
        "-3x_{1}-6x_{2}=0 \\\\\n",
        "2x_{1}+4x_{2}=0\n",
        "\\end{cases}$\n"
      ]
    },
    {
      "cell_type": "markdown",
      "metadata": {
        "id": "y5fSdqJ76C-I"
      },
      "source": [
        "$x_{1}=-2x_{2}$\n",
        "\n",
        "$(-2x_{2};x_{2})$"
      ]
    },
    {
      "cell_type": "markdown",
      "metadata": {
        "id": "CKA69D4j8eiW"
      },
      "source": [
        "$x_{2}=-1$\n",
        "\n",
        "$(2;-1)$\n",
        "\n",
        "$|x|=\\sqrt{2^2+(-1)^2}=\\sqrt{5}$\n"
      ]
    },
    {
      "cell_type": "markdown",
      "metadata": {
        "id": "zF92NhgK9A6X"
      },
      "source": [
        "Собственный вектор 1:\n",
        "\n",
        "$(\\frac{2}{\\sqrt{5}};\\frac{-1}{\\sqrt{5}})$"
      ]
    },
    {
      "cell_type": "code",
      "metadata": {
        "colab": {
          "base_uri": "https://localhost:8080/"
        },
        "id": "jU_Z9ixj9138",
        "outputId": "dd1964e7-1ba7-4802-cb05-ad1efeec7cf5"
      },
      "source": [
        "print(2/sqrt(5))\n",
        "print(-1/sqrt(5))"
      ],
      "execution_count": 2,
      "outputs": [
        {
          "output_type": "stream",
          "text": [
            "0.8944271909999159\n",
            "-0.4472135954999579\n"
          ],
          "name": "stdout"
        }
      ]
    },
    {
      "cell_type": "markdown",
      "metadata": {
        "id": "XMTQuiw76fjg"
      },
      "source": [
        "$\\lambda_{2} = 3$:\n",
        "\n",
        "$\\begin{cases}\n",
        "(-1-3)x_{1}-6x_{2}=0 \\\\\n",
        "2x_{1}+(6-3)x_{2}=0\n",
        "\\end{cases}$\n",
        "\n",
        "$\\begin{cases}\n",
        "-4x_{1}-6x_{2}=0 \\\\\n",
        "2x_{1}+3x_{2}=0\n",
        "\\end{cases}$"
      ]
    },
    {
      "cell_type": "markdown",
      "metadata": {
        "id": "_87Dd5EY6pQY"
      },
      "source": [
        "$x_{1}=-1.5x_{2}$\n",
        "\n",
        "$(-1.5x_{2};x_{2})$"
      ]
    },
    {
      "cell_type": "markdown",
      "metadata": {
        "id": "wDxw4j6u9aJa"
      },
      "source": [
        "$x_{2}=-2$\n",
        "\n",
        "$(3;-2)$\n",
        "\n",
        "$|x|=\\sqrt{3^2+(-2)^2}=\\sqrt{13}$"
      ]
    },
    {
      "cell_type": "markdown",
      "metadata": {
        "id": "FWkhn1nF9jlk"
      },
      "source": [
        "Собственный вектор 2:\n",
        "\n",
        "$(\\frac{3}{\\sqrt{13}};\\frac{-2}{\\sqrt{13}})$"
      ]
    },
    {
      "cell_type": "code",
      "metadata": {
        "colab": {
          "base_uri": "https://localhost:8080/"
        },
        "id": "qCYmE5aQ-Kst",
        "outputId": "b42e9097-45fa-486b-d819-629bbfc17399"
      },
      "source": [
        "print(3/sqrt(13))\n",
        "print(-2/sqrt(13))"
      ],
      "execution_count": 3,
      "outputs": [
        {
          "output_type": "stream",
          "text": [
            "0.8320502943378437\n",
            "-0.5547001962252291\n"
          ],
          "name": "stdout"
        }
      ]
    },
    {
      "cell_type": "code",
      "metadata": {
        "id": "9SPS-XCDrpA3"
      },
      "source": [
        "# проверка\n",
        "a = np.array([[-1, -6], [2, 6]])\n",
        "w, v = np.linalg.eig(a)"
      ],
      "execution_count": 4,
      "outputs": []
    },
    {
      "cell_type": "code",
      "metadata": {
        "colab": {
          "base_uri": "https://localhost:8080/"
        },
        "id": "UWWX9MKwrv4Q",
        "outputId": "d4bf136e-affc-4b5e-d3a4-2e7f95a878e6"
      },
      "source": [
        "print(f'Матрица A:\\n{a}')\n",
        "print(f'Собственные значения:\\n{w}')\n",
        "print(f'Собственные векторы:\\n{v}')"
      ],
      "execution_count": 5,
      "outputs": [
        {
          "output_type": "stream",
          "text": [
            "Матрица A:\n",
            "[[-1 -6]\n",
            " [ 2  6]]\n",
            "Собственные значения:\n",
            "[2. 3.]\n",
            "Собственные векторы:\n",
            "[[-0.89442719  0.83205029]\n",
            " [ 0.4472136  -0.5547002 ]]\n"
          ],
          "name": "stdout"
        }
      ]
    },
    {
      "cell_type": "markdown",
      "metadata": {
        "id": "XqKrwAmqrKhm"
      },
      "source": [
        "__2.__ Дан оператор поворота на 180 градусов, задаваемый матрицей \n",
        "\n",
        "$$A=\\begin{pmatrix}\n",
        "-1 & 0\\\\ \n",
        "0 & -1\n",
        "\\end{pmatrix}.$$\n",
        "\n",
        "Показать, что __любой__ вектор является для него собственным.\n",
        "\n"
      ]
    },
    {
      "cell_type": "markdown",
      "metadata": {
        "id": "7ajq3Aw0rKml"
      },
      "source": [
        "$\\begin{vmatrix}\n",
        "-1-\\lambda  & 0\\\\ \n",
        "0 & -1-\\lambda\n",
        "\\end{vmatrix} = 0$\n",
        "\n",
        "$(-1-\\lambda)(-1-\\lambda)-0=0$\n",
        "\n",
        "$(\\lambda+1)^2=0$"
      ]
    },
    {
      "cell_type": "markdown",
      "metadata": {
        "id": "Joxo9zgW_HET"
      },
      "source": [
        "Собственные значения:\n",
        "\n",
        "$\\lambda = -1$"
      ]
    },
    {
      "cell_type": "markdown",
      "metadata": {
        "id": "123Gzwxm_UtT"
      },
      "source": [
        "$\\begin{pmatrix}\n",
        "-1-\\lambda & 0\\\\ \n",
        "0 & -1-\\lambda\n",
        "\\end{pmatrix}\n",
        "\\begin{pmatrix}\n",
        "x_{1}\\\\ \n",
        "x_{2}\n",
        "\\end{pmatrix}=\n",
        "0\n",
        "$\n",
        "\n",
        "$\\begin{pmatrix}\n",
        "0 & 0\\\\ \n",
        "0 & 0\n",
        "\\end{pmatrix}\n",
        "\\begin{pmatrix}\n",
        "x_{1}\\\\ \n",
        "x_{2}\n",
        "\\end{pmatrix}=\n",
        "0\n",
        "$"
      ]
    },
    {
      "cell_type": "markdown",
      "metadata": {
        "id": "Cu2m5u0k_kAu"
      },
      "source": [
        "**=> Любой вектор является собственным**"
      ]
    },
    {
      "cell_type": "markdown",
      "metadata": {
        "id": "_F6T8Z70rKqR"
      },
      "source": [
        "__3.__ Пусть линейный оператор задан матрицей\n",
        "\n",
        "$$A=\\begin{pmatrix}\n",
        "1 & 1\\\\ \n",
        "-1 & 3\n",
        "\\end{pmatrix}.$$\n",
        "\n",
        "Установить, является ли вектор $x=(1,1)$ собственным вектором этого линейного оператора."
      ]
    },
    {
      "cell_type": "markdown",
      "metadata": {
        "id": "8rW_PZvDrK-9"
      },
      "source": [
        "$\\begin{pmatrix}\n",
        "1-\\lambda & 1\\\\ \n",
        "-1 & 3-\\lambda\n",
        "\\end{pmatrix}\n",
        "\\begin{pmatrix}\n",
        "x_{1}\\\\ \n",
        "x_{2}\n",
        "\\end{pmatrix}=\n",
        "0\n",
        "$\n",
        "\n",
        "$\\begin{pmatrix}\n",
        "1-\\lambda & 1\\\\ \n",
        "-1 & 3-\\lambda\n",
        "\\end{pmatrix}\n",
        "\\begin{pmatrix}\n",
        "1\\\\ \n",
        "1\n",
        "\\end{pmatrix}=\n",
        "0\n",
        "$\n",
        "\n",
        "$\\begin{cases}\n",
        "(1-\\lambda)+1=0 \\\\\n",
        "-1+(3-\\lambda)=0\n",
        "\\end{cases}\n",
        "$\n",
        "\n",
        "$\\begin{cases}\n",
        "\\lambda=2 \\\\\n",
        "\\lambda=2\n",
        "\\end{cases}\n",
        "$"
      ]
    },
    {
      "cell_type": "markdown",
      "metadata": {
        "id": "PcNAsEcZrLMe"
      },
      "source": [
        "**=> вектор $x$ является собственным вектором линейного оператора.**"
      ]
    },
    {
      "cell_type": "markdown",
      "metadata": {
        "id": "NGP8GvgFBJdM"
      },
      "source": [
        "**4.** Пусть линейный оператор задан матрицей\n",
        "\n",
        "$$A=\\begin{pmatrix} 0 & 3 & 0\\\\ 3 & 0 & 0\\\\ 0 & 0 & 3 \\end{pmatrix}.$$\n",
        "\n",
        "Установить, является ли вектор $x=(3, -3, -4)$ собственным вектором этого линейного оператора."
      ]
    },
    {
      "cell_type": "markdown",
      "metadata": {
        "id": "5-xf-SsnBKxg"
      },
      "source": [
        "$\\begin{pmatrix}\n",
        "0-\\lambda & 3 & 0\\\\ \n",
        "3 & 0-\\lambda & 0\\\\\n",
        "0 & 0 & 3-\\lambda\n",
        "\\end{pmatrix}\n",
        "\\begin{pmatrix}\n",
        "x_{1}\\\\ \n",
        "x_{2}\\\\\n",
        "x_{3}\n",
        "\\end{pmatrix}=\n",
        "0\n",
        "$\n",
        "\n",
        "$\\begin{pmatrix}\n",
        "0-\\lambda & 3 & 0\\\\ \n",
        "3 & 0-\\lambda & 0\\\\\n",
        "0 & 0 & 3-\\lambda\n",
        "\\end{pmatrix}\n",
        "\\begin{pmatrix}\n",
        "3\\\\ \n",
        "-3\\\\\n",
        "-4\n",
        "\\end{pmatrix}=\n",
        "0\n",
        "$\n",
        "\n",
        "$\\begin{cases}\n",
        "(0-\\lambda)3-9=0 \\\\\n",
        "9+3\\lambda=0 \\\\\n",
        "(3-\\lambda)4=0\n",
        "\\end{cases}\n",
        "$\n",
        "\n",
        "$\\begin{cases}\n",
        "\\lambda=-3 \\\\\n",
        "\\lambda=-3 \\\\\n",
        "\\lambda=3\n",
        "\\end{cases}\n",
        "$\n"
      ]
    },
    {
      "cell_type": "markdown",
      "metadata": {
        "id": "QOz7dtcOCTVe"
      },
      "source": [
        "**=> вектор $x$ не является собственным вектором линейного оператора.**"
      ]
    }
  ]
}