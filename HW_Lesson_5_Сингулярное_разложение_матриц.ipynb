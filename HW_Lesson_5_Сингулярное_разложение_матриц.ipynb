{
  "nbformat": 4,
  "nbformat_minor": 0,
  "metadata": {
    "colab": {
      "name": "HW_Lesson_5. Сингулярное разложение матриц.ipynb",
      "provenance": [],
      "authorship_tag": "ABX9TyND9ZL7sI2J/06b25fnnbDn",
      "include_colab_link": true
    },
    "kernelspec": {
      "name": "python3",
      "display_name": "Python 3"
    },
    "language_info": {
      "name": "python"
    }
  },
  "cells": [
    {
      "cell_type": "markdown",
      "metadata": {
        "id": "view-in-github",
        "colab_type": "text"
      },
      "source": [
        "<a href=\"https://colab.research.google.com/github/dmitry-petrov-dev/linear_algebra/blob/lesson5/HW_Lesson_5_%D0%A1%D0%B8%D0%BD%D0%B3%D1%83%D0%BB%D1%8F%D1%80%D0%BD%D0%BE%D0%B5_%D1%80%D0%B0%D0%B7%D0%BB%D0%BE%D0%B6%D0%B5%D0%BD%D0%B8%D0%B5_%D0%BC%D0%B0%D1%82%D1%80%D0%B8%D1%86.ipynb\" target=\"_parent\"><img src=\"https://colab.research.google.com/assets/colab-badge.svg\" alt=\"Open In Colab\"/></a>"
      ]
    },
    {
      "cell_type": "code",
      "metadata": {
        "id": "5Ws-mcDYvOr4"
      },
      "source": [
        "import numpy as np"
      ],
      "execution_count": 1,
      "outputs": []
    },
    {
      "cell_type": "code",
      "metadata": {
        "id": "RA18f-eGxpv4"
      },
      "source": [
        "np.set_printoptions(precision=2, suppress=True)"
      ],
      "execution_count": 2,
      "outputs": []
    },
    {
      "cell_type": "markdown",
      "metadata": {
        "id": "INVO-c2zvrh0"
      },
      "source": [
        "__1.__ Найти с помощью NumPy SVD для матрицы\n",
        "\n",
        "$$\\begin{pmatrix}\n",
        "1 & 2 & 0\\\\ \n",
        "0 & 0 & 5\\\\ \n",
        "3 & -4 & 2\\\\ \n",
        "1 & 6 & 5\\\\ \n",
        "0 & 1 & 0\n",
        "\\end{pmatrix}.$$\n"
      ]
    },
    {
      "cell_type": "code",
      "metadata": {
        "colab": {
          "base_uri": "https://localhost:8080/"
        },
        "id": "tl8v0Pmxvzz_",
        "outputId": "cd2c92cc-ae5f-4651-92b8-64ddbb27360f"
      },
      "source": [
        "A = np.array([[1, 2, 0], [0, 0, 5], [3, -4, 2], [1, 6, 5], [0, 1, 0]])\n",
        "A"
      ],
      "execution_count": 3,
      "outputs": [
        {
          "output_type": "execute_result",
          "data": {
            "text/plain": [
              "array([[ 1,  2,  0],\n",
              "       [ 0,  0,  5],\n",
              "       [ 3, -4,  2],\n",
              "       [ 1,  6,  5],\n",
              "       [ 0,  1,  0]])"
            ]
          },
          "metadata": {
            "tags": []
          },
          "execution_count": 3
        }
      ]
    },
    {
      "cell_type": "code",
      "metadata": {
        "id": "UHqTLyEwwRjB"
      },
      "source": [
        "U, s, W = np.linalg.svd(A)"
      ],
      "execution_count": 4,
      "outputs": []
    },
    {
      "cell_type": "code",
      "metadata": {
        "colab": {
          "base_uri": "https://localhost:8080/"
        },
        "id": "1f331I2_wfNn",
        "outputId": "1edfd983-5f0d-441e-b1cc-de3b129f4410"
      },
      "source": [
        "# Траспонируем матрицу W\n",
        "V = W.T\n",
        "V"
      ],
      "execution_count": 5,
      "outputs": [
        {
          "output_type": "execute_result",
          "data": {
            "text/plain": [
              "array([[ 0.07, -0.37, -0.93],\n",
              "       [ 0.72,  0.67, -0.21],\n",
              "       [ 0.69, -0.65,  0.31]])"
            ]
          },
          "metadata": {
            "tags": []
          },
          "execution_count": 5
        }
      ]
    },
    {
      "cell_type": "code",
      "metadata": {
        "colab": {
          "base_uri": "https://localhost:8080/"
        },
        "id": "6V1TOQIdwmRr",
        "outputId": "030c0f4b-efd5-445b-804d-fce46a57a02b"
      },
      "source": [
        "# s - список диагональных элементов, его нужно привести к виду диагональной матрицы для наглядности\n",
        "D = np.zeros_like(A, dtype=float)\n",
        "D[np.diag_indices(min(A.shape))] = s\n",
        "D"
      ],
      "execution_count": 6,
      "outputs": [
        {
          "output_type": "execute_result",
          "data": {
            "text/plain": [
              "array([[8.82, 0.  , 0.  ],\n",
              "       [0.  , 6.14, 0.  ],\n",
              "       [0.  , 0.  , 2.53],\n",
              "       [0.  , 0.  , 0.  ],\n",
              "       [0.  , 0.  , 0.  ]])"
            ]
          },
          "metadata": {
            "tags": []
          },
          "execution_count": 6
        }
      ]
    },
    {
      "cell_type": "code",
      "metadata": {
        "colab": {
          "base_uri": "https://localhost:8080/"
        },
        "id": "VSGYww70w_K7",
        "outputId": "313b9e57-5a35-4012-89e5-dfa7d3b94075"
      },
      "source": [
        "# Матрица U\n",
        "U"
      ],
      "execution_count": 7,
      "outputs": [
        {
          "output_type": "execute_result",
          "data": {
            "text/plain": [
              "array([[ 0.17,  0.16, -0.53, -0.8 , -0.16],\n",
              "       [ 0.39, -0.53,  0.61, -0.43,  0.03],\n",
              "       [-0.14, -0.82, -0.52,  0.14,  0.07],\n",
              "       [ 0.89,  0.06, -0.25,  0.38, -0.06],\n",
              "       [ 0.08,  0.11, -0.08, -0.11,  0.98]])"
            ]
          },
          "metadata": {
            "tags": []
          },
          "execution_count": 7
        }
      ]
    },
    {
      "cell_type": "code",
      "metadata": {
        "colab": {
          "base_uri": "https://localhost:8080/"
        },
        "id": "d4nfBDVYxS1v",
        "outputId": "c2ab202d-9a44-495b-a2d9-50fb333e2247"
      },
      "source": [
        "# Убедимся, что матрицы U и V ортогональны\n",
        "print(np.dot(U.T, U))\n",
        "print(np.dot(V.T, V))"
      ],
      "execution_count": 8,
      "outputs": [
        {
          "output_type": "stream",
          "text": [
            "[[ 1.  0. -0. -0. -0.]\n",
            " [ 0.  1.  0.  0.  0.]\n",
            " [-0.  0.  1. -0. -0.]\n",
            " [-0.  0. -0.  1. -0.]\n",
            " [-0.  0. -0. -0.  1.]]\n",
            "[[ 1.  0. -0.]\n",
            " [ 0.  1. -0.]\n",
            " [-0. -0.  1.]]\n"
          ],
          "name": "stdout"
        }
      ]
    },
    {
      "cell_type": "code",
      "metadata": {
        "colab": {
          "base_uri": "https://localhost:8080/"
        },
        "id": "RbhCgsLaxygU",
        "outputId": "7cb77ae6-52bd-4045-cb1c-67902fe6fe06"
      },
      "source": [
        "# Проверка:\n",
        "print(np.dot(np.dot(U, D), V.T))"
      ],
      "execution_count": 9,
      "outputs": [
        {
          "output_type": "stream",
          "text": [
            "[[ 1.  2.  0.]\n",
            " [ 0. -0.  5.]\n",
            " [ 3. -4.  2.]\n",
            " [ 1.  6.  5.]\n",
            " [-0.  1. -0.]]\n"
          ],
          "name": "stdout"
        }
      ]
    },
    {
      "cell_type": "markdown",
      "metadata": {
        "id": "HRGlb5H7yDfI"
      },
      "source": [
        "__2__. Для матрицы из предыдущего задания найти:\n",
        "\n",
        "  а) евклидову норму; \n",
        "\n",
        "  б) норму Фробениуса."
      ]
    },
    {
      "cell_type": "markdown",
      "metadata": {
        "id": "i3YVbyfmyNa8"
      },
      "source": [
        "**а) евклидова норма:**"
      ]
    },
    {
      "cell_type": "code",
      "metadata": {
        "colab": {
          "base_uri": "https://localhost:8080/"
        },
        "id": "dyCBtISCzIW6",
        "outputId": "0f8e9b2c-145b-4607-eb4f-a6d6b164389a"
      },
      "source": [
        "# Евклидова норма матрицы равна евклидовой норме диагональной матрицы из ее сингулярных чисел D. Максимальное значение полученного отношения будет равно максимальному сингулярному числу mu_max:\n",
        "print(max(map(max, D)))"
      ],
      "execution_count": 10,
      "outputs": [
        {
          "output_type": "stream",
          "text": [
            "8.824868854820442\n"
          ],
          "name": "stdout"
        }
      ]
    },
    {
      "cell_type": "markdown",
      "metadata": {
        "id": "fAQ8apXhzw68"
      },
      "source": [
        "**б) норма Фробениуса:**"
      ]
    },
    {
      "cell_type": "code",
      "metadata": {
        "colab": {
          "base_uri": "https://localhost:8080/"
        },
        "id": "FAkb6hSlzzxc",
        "outputId": "e514f637-06d3-4ce8-fb55-09c846fa7e87"
      },
      "source": [
        "print(np.sqrt(np.sum(D**2)))"
      ],
      "execution_count": 11,
      "outputs": [
        {
          "output_type": "stream",
          "text": [
            "11.045361017187261\n"
          ],
          "name": "stdout"
        }
      ]
    }
  ]
}