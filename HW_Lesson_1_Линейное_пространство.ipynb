{
  "nbformat": 4,
  "nbformat_minor": 0,
  "metadata": {
    "colab": {
      "name": "HW_Lesson_1. Линейное пространство.ipynb",
      "provenance": [],
      "authorship_tag": "ABX9TyOOyunypVDmA9slyy29Aw3Z",
      "include_colab_link": true
    },
    "kernelspec": {
      "name": "python3",
      "display_name": "Python 3"
    },
    "language_info": {
      "name": "python"
    }
  },
  "cells": [
    {
      "cell_type": "markdown",
      "metadata": {
        "id": "view-in-github",
        "colab_type": "text"
      },
      "source": [
        "<a href=\"https://colab.research.google.com/github/dmitry-petrov-dev/linear_algebra/blob/lesson1/HW_Lesson_1_%D0%9B%D0%B8%D0%BD%D0%B5%D0%B9%D0%BD%D0%BE%D0%B5_%D0%BF%D1%80%D0%BE%D1%81%D1%82%D1%80%D0%B0%D0%BD%D1%81%D1%82%D0%B2%D0%BE.ipynb\" target=\"_parent\"><img src=\"https://colab.research.google.com/assets/colab-badge.svg\" alt=\"Open In Colab\"/></a>"
      ]
    },
    {
      "cell_type": "code",
      "metadata": {
        "id": "M_CbFMP7HQec"
      },
      "source": [
        "import numpy as np\n",
        "import math"
      ],
      "execution_count": 1,
      "outputs": []
    },
    {
      "cell_type": "markdown",
      "metadata": {
        "id": "PnZQOihlHR6S"
      },
      "source": [
        "__1.__ Исследовать на линейную зависимость:\n",
        "\n",
        "$$f_{1}(x)=e^{x}, f_{2}(x)=1, f_{3}(x)=x+1, f_{4}(x)=x-e^{x}.$$"
      ]
    },
    {
      "cell_type": "markdown",
      "metadata": {
        "id": "Hj9eOoQAKEz8"
      },
      "source": [
        "$f_{4}(x)=f_{3}(x) - f_{2}(x) - f_{1}(x)$\n",
        "\n",
        "__Ответ:__ линейно зависимы"
      ]
    },
    {
      "cell_type": "markdown",
      "metadata": {
        "id": "IfyrQ7hVKqh3"
      },
      "source": [
        "__2.__ Исследовать на линейную зависимость:\n",
        "$$f_{1}(x)=2, f_{2}(x)=x, f_{3}(x)=x^{2}, f_{4}(x)=(x+1)^{2}$$"
      ]
    },
    {
      "cell_type": "markdown",
      "metadata": {
        "id": "z-el0YerKqmQ"
      },
      "source": [
        "$f_{4}(x)=(x+1)^{2} = x^2+2x+1$\n",
        "\n",
        "$f_{4}(x)=f_{3}(x)+2f_{2}(x)+\\frac{1}{2}f_{1}(x)$\n",
        "\n",
        "__Ответ:__ линейно зависимы"
      ]
    },
    {
      "cell_type": "markdown",
      "metadata": {
        "id": "z52Rkqf1LpMC"
      },
      "source": [
        "__3.__ Найти координаты вектора $x = (2, 3, 5)\\in \\mathbb{R}^{3}$ в базисе $b_{1}=(0, 0, 10)$, $b_{2}=(2, 0, 0)$, $b_{3}=(0, 1, 0)$."
      ]
    },
    {
      "cell_type": "markdown",
      "metadata": {
        "id": "HJJugWrkLqbn"
      },
      "source": [
        "$x = a_1(2,0,0)+a_2(0,1,0)+a_3(0,0,10)$\n",
        "$(2,3,5) = (2a_1,0a_1,0a_1)+(0a_2,1a_2,0a_2)+(0a_3,0a_3,10a_3)$\n",
        "$(2,3,5) = (2a_1+0a_2+0a_3,0a_1+1a_2+0a_3,0a_1+0a_2+10a_3)$\n",
        "\n",
        "$2 = 2a_1, a_1 = 1$ \n",
        "\n",
        "$3 = 1a_2, a_2 = 3$\n",
        "\n",
        "$5 = 10a_3, a_3 = \\frac{1}{2}$"
      ]
    },
    {
      "cell_type": "markdown",
      "metadata": {
        "id": "NIitxQ4FOmmX"
      },
      "source": [
        "__Ответ:__ $x= e_1+3e_2+\\frac{1}{2}e_3$"
      ]
    },
    {
      "cell_type": "markdown",
      "metadata": {
        "id": "jx9U1_oqOrbF"
      },
      "source": [
        "__4.__ Найти координаты вектора $3x^{2}-2x+2\\in\\mathbb{R}^{3}[x]$:\n",
        "\n",
        "а) в базисе $1$, $x$, $x^{2}$;\n",
        "\n",
        "б) в базисе $x^{2}$, $x-1$, $1$."
      ]
    },
    {
      "cell_type": "markdown",
      "metadata": {
        "id": "p5qs3d13O22h"
      },
      "source": [
        "a)"
      ]
    },
    {
      "cell_type": "markdown",
      "metadata": {
        "id": "fufEaaKkO5Dc"
      },
      "source": [
        "__Ответ:__ (2,-2,3)"
      ]
    },
    {
      "cell_type": "markdown",
      "metadata": {
        "id": "LS8VNBjpQp-2"
      },
      "source": [
        "б)"
      ]
    },
    {
      "cell_type": "markdown",
      "metadata": {
        "id": "fIOm9ceoQrjI"
      },
      "source": [
        "$3x^{2}-2x+2 = 3x^{2} -2(x-1)+0$ "
      ]
    },
    {
      "cell_type": "markdown",
      "metadata": {
        "id": "VdZCVSyGRHAq"
      },
      "source": [
        "__Ответ:__ (3,-2,0)"
      ]
    },
    {
      "cell_type": "markdown",
      "metadata": {
        "id": "3wVqlW6pRP_C"
      },
      "source": [
        "__5.__ Установить, является ли линейным подпространством:\n",
        "\n",
        "а) совокупность всех векторов трехмерного пространства, у которых по крайней мере одна из первых двух координат равна нулю;\n",
        "    \n",
        "б) все векторы, являющиеся линейными комбинациями данных векторов $\\{u_{1}, u_{2}, \\ldots, u_{n}\\}$."
      ]
    },
    {
      "cell_type": "markdown",
      "metadata": {
        "id": "rIsnFxBBSM1R"
      },
      "source": [
        "a)"
      ]
    },
    {
      "cell_type": "markdown",
      "metadata": {
        "id": "wdfABykORWY4"
      },
      "source": [
        "$(0, a, b)+(0, c, d) = (0, a+c, b+d),$\n",
        "\n",
        "$\\alpha\\cdot (0, a, b) = (0, \\alpha a, \\alpha b)$"
      ]
    },
    {
      "cell_type": "markdown",
      "metadata": {
        "id": "XEAKcWYjSo56"
      },
      "source": [
        "__Ответ:__ данное множество является подпространством линейного пространства $\\mathbb{R}^{3}$"
      ]
    },
    {
      "cell_type": "markdown",
      "metadata": {
        "id": "dns2uxDGSuJ0"
      },
      "source": [
        "б)"
      ]
    },
    {
      "cell_type": "markdown",
      "metadata": {
        "id": "R864LTHBUJc3"
      },
      "source": [
        "__Ответ:__ данное множество является подпространством линейного пространства $\\mathbb{R}^{3}$"
      ]
    },
    {
      "cell_type": "markdown",
      "metadata": {
        "id": "HE57lsbPUOae"
      },
      "source": [
        "##Часть 2"
      ]
    },
    {
      "cell_type": "markdown",
      "metadata": {
        "id": "lBDe_lRmUSp4"
      },
      "source": [
        "__1.__ Найти скалярное произведение векторов $x, y \\in \\mathbb{R}$:<br>\n",
        "а) $x=(0,-3, 6),~y=(-4, 7, 9);$<br>\n",
        "б) $x=(7, -4, 0, 1),~y=(-3, 1, 11, 2).$"
      ]
    },
    {
      "cell_type": "markdown",
      "metadata": {
        "id": "mdUpupoJUWSK"
      },
      "source": [
        "a) $(x,y) = 0\\cdot(-4)+(-3)\\cdot4+6\\cdot9=-21+54=33$\n",
        "\n",
        "б) $(x,y) = 7\\cdot(-3)+(-4)\\cdot1+0\\cdot11+1\\cdot2=-21-4+2=-23$"
      ]
    },
    {
      "cell_type": "markdown",
      "metadata": {
        "id": "pEeL7DNyVkQy"
      },
      "source": [
        "__Ответ:__ a) 33, б) -23"
      ]
    },
    {
      "cell_type": "markdown",
      "metadata": {
        "id": "Yt5PqLzLVsx3"
      },
      "source": [
        "__2.__ Найти нормы векторов $(4, 2, 4)$ и $(12, 3, 4)$ и угол между ними."
      ]
    },
    {
      "cell_type": "markdown",
      "metadata": {
        "id": "PXqNXgK7VwuI"
      },
      "source": [
        "$\\left\\|x\\right\\|_{2} = \\sqrt{4^{2}+2^{2}+(4)^{2}}=\\sqrt{36}=6$\n",
        "\n",
        "$\\left\\|y\\right\\|_{2} = \\sqrt{12^{2}+3^{2}+(4)^{2}}=\\sqrt{169}=13$"
      ]
    },
    {
      "cell_type": "markdown",
      "metadata": {
        "id": "txn0_jDSWf5W"
      },
      "source": [
        "$cos\\varphi = \\frac{(x,y)}{\\left \\|x\\right \\|\\cdot\\left \\|y\\right \\|}= \\frac{4\\cdot12+2\\cdot3+4\\cdot4}{6\\cdot13}=\\frac{70}{78}=\\frac{35}{39}$"
      ]
    },
    {
      "cell_type": "markdown",
      "metadata": {
        "id": "JV4Q_q18XOuy"
      },
      "source": [
        "__3.__ Будет ли линейное пространство евклидовым, если за скалярное произведение принять:\n",
        "\n",
        "а) произведение длин векторов;\n",
        "\n",
        "б) утроенное обычное скалярное произведение векторов?"
      ]
    },
    {
      "cell_type": "markdown",
      "metadata": {
        "id": "-9dhCwc1XcWX"
      },
      "source": [
        "а) да, т.к. будет действовать формула: $(x, y) = \\left|x\\right|\\cdot\\left|y\\right|\\cdot cos\\alpha.$\n",
        "\n",
        "б) нет, т.к. не будет действовать формула: $(x, y) = \\left|x\\right|\\cdot\\left|y\\right|\\cdot cos\\alpha.$"
      ]
    },
    {
      "cell_type": "markdown",
      "metadata": {
        "id": "15_m7UKkXrKy"
      },
      "source": [
        "__4.__ Какие из нижеперечисленных векторов образуют ортонормированный базис в линейном пространстве $\\mathbb{R}^{3}$:\n",
        "\n",
        "а) $(1,0,0),(0,0,1);$\n",
        "\n",
        "б) $(1/\\sqrt{2},-1/\\sqrt{2},0),(1/\\sqrt{2},1/\\sqrt{2},0), (0,0,1);$\n",
        "\n",
        "в) $(1/2, -1/2, 0), (0, 1/2, 1/2), (0,0,1);$\n",
        "\n",
        "г) $(1,0,0),(0,1,0),(0,0,1)?$ "
      ]
    },
    {
      "cell_type": "markdown",
      "metadata": {
        "id": "MwTGtSVQXzuC"
      },
      "source": [
        "a)"
      ]
    },
    {
      "cell_type": "code",
      "metadata": {
        "colab": {
          "base_uri": "https://localhost:8080/"
        },
        "id": "tquMV2MpFZLC",
        "outputId": "63a4826f-0674-4ee5-d519-4575c85a8e52"
      },
      "source": [
        "1*0+0*0+0*1"
      ],
      "execution_count": 2,
      "outputs": [
        {
          "output_type": "execute_result",
          "data": {
            "text/plain": [
              "0"
            ]
          },
          "metadata": {
            "tags": []
          },
          "execution_count": 2
        }
      ]
    },
    {
      "cell_type": "markdown",
      "metadata": {
        "id": "g149xV7zFhH5"
      },
      "source": [
        "б)"
      ]
    },
    {
      "cell_type": "code",
      "metadata": {
        "colab": {
          "base_uri": "https://localhost:8080/"
        },
        "id": "F0f6iUoWFi9s",
        "outputId": "0d942c21-435f-4e10-b83d-0b33eb99e1a7"
      },
      "source": [
        "(1/math.sqrt(2))*(1/math.sqrt(2))+(-1/math.sqrt(2))*(1/math.sqrt(2))+0*0"
      ],
      "execution_count": 3,
      "outputs": [
        {
          "output_type": "execute_result",
          "data": {
            "text/plain": [
              "0.0"
            ]
          },
          "metadata": {
            "tags": []
          },
          "execution_count": 3
        }
      ]
    },
    {
      "cell_type": "code",
      "metadata": {
        "colab": {
          "base_uri": "https://localhost:8080/"
        },
        "id": "hC7xAtWYF26f",
        "outputId": "2512713b-187d-4805-a5e2-c01938f187ab"
      },
      "source": [
        "(1/math.sqrt(2))*0+(-1/math.sqrt(2))*0+0*1"
      ],
      "execution_count": 4,
      "outputs": [
        {
          "output_type": "execute_result",
          "data": {
            "text/plain": [
              "0.0"
            ]
          },
          "metadata": {
            "tags": []
          },
          "execution_count": 4
        }
      ]
    },
    {
      "cell_type": "code",
      "metadata": {
        "colab": {
          "base_uri": "https://localhost:8080/"
        },
        "id": "OvkkZeQOF8O2",
        "outputId": "986a3d62-b17e-49eb-b13b-a2d9c82fdd5d"
      },
      "source": [
        "(1/math.sqrt(2))*0+(1/math.sqrt(2))*0+0*1"
      ],
      "execution_count": 5,
      "outputs": [
        {
          "output_type": "execute_result",
          "data": {
            "text/plain": [
              "0.0"
            ]
          },
          "metadata": {
            "tags": []
          },
          "execution_count": 5
        }
      ]
    },
    {
      "cell_type": "markdown",
      "metadata": {
        "id": "F-WYfeDZGIJ1"
      },
      "source": [
        "в)"
      ]
    },
    {
      "cell_type": "code",
      "metadata": {
        "colab": {
          "base_uri": "https://localhost:8080/"
        },
        "id": "NpAnAHpbGM-d",
        "outputId": "fb926dfc-a385-47b0-d765-d97a97aa0716"
      },
      "source": [
        "(1/2)*0+(-1/2)*(1/2)+0*(1/2)"
      ],
      "execution_count": 6,
      "outputs": [
        {
          "output_type": "execute_result",
          "data": {
            "text/plain": [
              "-0.25"
            ]
          },
          "metadata": {
            "tags": []
          },
          "execution_count": 6
        }
      ]
    },
    {
      "cell_type": "code",
      "metadata": {
        "colab": {
          "base_uri": "https://localhost:8080/"
        },
        "id": "ib5EDg_3Goou",
        "outputId": "1f4fefba-badb-44ba-e6c0-299d92969c69"
      },
      "source": [
        "(1/2)*0+(-1/2)*0+0*1"
      ],
      "execution_count": 7,
      "outputs": [
        {
          "output_type": "execute_result",
          "data": {
            "text/plain": [
              "0.0"
            ]
          },
          "metadata": {
            "tags": []
          },
          "execution_count": 7
        }
      ]
    },
    {
      "cell_type": "code",
      "metadata": {
        "colab": {
          "base_uri": "https://localhost:8080/"
        },
        "id": "0qzX7f-FGvoF",
        "outputId": "7c980024-47b8-448a-dc7a-1cbef042224c"
      },
      "source": [
        "0*0+(1/2)*0+(1/2)*1"
      ],
      "execution_count": 8,
      "outputs": [
        {
          "output_type": "execute_result",
          "data": {
            "text/plain": [
              "0.5"
            ]
          },
          "metadata": {
            "tags": []
          },
          "execution_count": 8
        }
      ]
    },
    {
      "cell_type": "markdown",
      "metadata": {
        "id": "WcMGT6XBG5cx"
      },
      "source": [
        "г)"
      ]
    },
    {
      "cell_type": "code",
      "metadata": {
        "colab": {
          "base_uri": "https://localhost:8080/"
        },
        "id": "oUxiXKRpG6zZ",
        "outputId": "f8f89198-17e4-4771-b0d9-620b9f6e9795"
      },
      "source": [
        "  1*0+0*1+0*0"
      ],
      "execution_count": 9,
      "outputs": [
        {
          "output_type": "execute_result",
          "data": {
            "text/plain": [
              "0"
            ]
          },
          "metadata": {
            "tags": []
          },
          "execution_count": 9
        }
      ]
    },
    {
      "cell_type": "code",
      "metadata": {
        "colab": {
          "base_uri": "https://localhost:8080/"
        },
        "id": "NRwQkbXZG_hn",
        "outputId": "5b1981b0-bcc8-47a8-be6f-8d86ef5bc208"
      },
      "source": [
        "  1*0+0*0+0*1"
      ],
      "execution_count": 10,
      "outputs": [
        {
          "output_type": "execute_result",
          "data": {
            "text/plain": [
              "0"
            ]
          },
          "metadata": {
            "tags": []
          },
          "execution_count": 10
        }
      ]
    },
    {
      "cell_type": "code",
      "metadata": {
        "colab": {
          "base_uri": "https://localhost:8080/"
        },
        "id": "gYETBN4GHDf_",
        "outputId": "1e368b71-9698-4af6-d26b-3e764208cd79"
      },
      "source": [
        "  0*0+1*0+0*1"
      ],
      "execution_count": 11,
      "outputs": [
        {
          "output_type": "execute_result",
          "data": {
            "text/plain": [
              "0"
            ]
          },
          "metadata": {
            "tags": []
          },
          "execution_count": 11
        }
      ]
    },
    {
      "cell_type": "markdown",
      "metadata": {
        "id": "_0AJeHoUHgbb"
      },
      "source": [
        "__Ответ:__ а, б, г"
      ]
    }
  ]
}