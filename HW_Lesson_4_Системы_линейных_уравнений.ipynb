{
  "nbformat": 4,
  "nbformat_minor": 0,
  "metadata": {
    "colab": {
      "name": "HW_Lesson_4. Системы линейных уравнений.ipynb",
      "provenance": [],
      "collapsed_sections": [],
      "authorship_tag": "ABX9TyPmUgKnFtXnd5SyrLOtJ7hP",
      "include_colab_link": true
    },
    "kernelspec": {
      "name": "python3",
      "display_name": "Python 3"
    },
    "language_info": {
      "name": "python"
    }
  },
  "cells": [
    {
      "cell_type": "markdown",
      "metadata": {
        "id": "view-in-github",
        "colab_type": "text"
      },
      "source": [
        "<a href=\"https://colab.research.google.com/github/dmitry-petrov-dev/linear_algebra/blob/lesson4/HW_Lesson_4_%D0%A1%D0%B8%D1%81%D1%82%D0%B5%D0%BC%D1%8B_%D0%BB%D0%B8%D0%BD%D0%B5%D0%B9%D0%BD%D1%8B%D1%85_%D1%83%D1%80%D0%B0%D0%B2%D0%BD%D0%B5%D0%BD%D0%B8%D0%B9.ipynb\" target=\"_parent\"><img src=\"https://colab.research.google.com/assets/colab-badge.svg\" alt=\"Open In Colab\"/></a>"
      ]
    },
    {
      "cell_type": "markdown",
      "metadata": {
        "id": "XqnzEgf-Vl_6"
      },
      "source": [
        "# Часть 1"
      ]
    },
    {
      "cell_type": "markdown",
      "metadata": {
        "id": "OjX8ZNXW__Z7"
      },
      "source": [
        "__1.__ Решить систему уравнений методом Гаусса:\n",
        "\n",
        "$$\\begin{cases}\n",
        "x_{1}+x_{2}-x_{3}-2x_{4}=0, \\\\\n",
        "2x_{1}+x_{2}-x_{3}+x_{4}=-2, \\\\\n",
        "x_{1}+x_{2}-3x_{3}+x_{4}=4.\n",
        "\\end{cases}$$\n"
      ]
    },
    {
      "cell_type": "markdown",
      "metadata": {
        "id": "Oy7mPBQeA2kR"
      },
      "source": [
        "$\\begin{pmatrix}\n",
        "\\left.\\begin{matrix}\n",
        "1 & 1 & -1 & -2 \\\\ \n",
        "2 & 1 & -1 & 1\\\\ \n",
        "1 & 1 & -3 & 1\n",
        "\\end{matrix}\\right|\n",
        "\\begin{matrix}\n",
        "0\\\\ \n",
        "-2\\\\\n",
        "4\n",
        "\\end{matrix}\n",
        "\\end{pmatrix}.$"
      ]
    },
    {
      "cell_type": "markdown",
      "metadata": {
        "id": "TwfmTsuKBR4R"
      },
      "source": [
        "Вычтем из второй строки первую, умноженную на 2:\n",
        "\n",
        "$\\begin{pmatrix}\n",
        "\\left.\\begin{matrix}\n",
        "1 & 1 & -1 & -2 \\\\ \n",
        "0 & -1 & 1 & 5\\\\ \n",
        "1 & 1 & -3 & 1\n",
        "\\end{matrix}\\right|\n",
        "\\begin{matrix}\n",
        "0\\\\ \n",
        "-2\\\\\n",
        "4\n",
        "\\end{matrix}\n",
        "\\end{pmatrix}.$"
      ]
    },
    {
      "cell_type": "markdown",
      "metadata": {
        "id": "ZPG_K9LCB1pk"
      },
      "source": [
        "Вычтем из третьей строки первую:\n",
        "\n",
        "$\\begin{pmatrix}\n",
        "\\left.\\begin{matrix}\n",
        "1 & 1 & -1 & -2 \\\\ \n",
        "0 & -1 & 1 & 5\\\\ \n",
        "0 & 0 & -2 & 3\n",
        "\\end{matrix}\\right|\n",
        "\\begin{matrix}\n",
        "0\\\\ \n",
        "-2\\\\\n",
        "4\n",
        "\\end{matrix}\n",
        "\\end{pmatrix}.$"
      ]
    },
    {
      "cell_type": "markdown",
      "metadata": {
        "id": "uRntVdUiCl2b"
      },
      "source": [
        "Система имеет бесконечное количество решений, общее решение выглядит следующим образом:\n",
        "\n",
        "$\\begin{cases}\n",
        "x_{1}+x_{2}-x_{3}-2x_{4}=0, \\\\\n",
        "-x_{2}+x_{3}+5x_{4}=-2, \\\\\n",
        "-2x_{3}+3x_{4}=4.\n",
        "\\end{cases}$"
      ]
    },
    {
      "cell_type": "markdown",
      "metadata": {
        "id": "FNk0wfs6F3n5"
      },
      "source": [
        "Рассмотрим $x_{4}=c$ в качестве свободного параметра:"
      ]
    },
    {
      "cell_type": "markdown",
      "metadata": {
        "id": "YJlrzgaSC-LY"
      },
      "source": [
        "$x_{4} = c$,\n",
        "\n",
        "$-2x_{3}+3c=4 \\; \\Leftrightarrow \\; x_{3}= \\frac{3c-4}{2}$\n",
        "\n",
        "$-x_{2}+\\frac{3c-4}{2}+5c=-2 \\; \\Leftrightarrow \\; x_{2}= \\frac{13c}{2}$,\n",
        "\n",
        "$x_{1}+ \\frac{13c}{2}-\\frac{3c-4}{2}-2c =0$,\n",
        "\n",
        "$x_{1}+ 3c+2 =0\\; \\Leftrightarrow \\; x_{1}=-3c-2$"
      ]
    },
    {
      "cell_type": "markdown",
      "metadata": {
        "id": "md4JlruKGhrj"
      },
      "source": [
        "Если $с=0$, то частное решение будет следующим:\n",
        "\n",
        "$ x_{1} = -2, $\n",
        "\n",
        "$ x_{2} = 0, $\n",
        "\n",
        "$x_{3} = -2, $\n",
        "\n",
        "$x_{4} = 0 $."
      ]
    },
    {
      "cell_type": "markdown",
      "metadata": {
        "id": "Hi31GOTCAC4M"
      },
      "source": [
        "\n",
        "__2.__ Проверить на совместность и выяснить, сколько решений будет иметь система линейных уравнений:\n",
        "\n",
        "   а) $\\begin{cases}\n",
        "3x_{1}-x_{2}+x_{3}=4, \\\\\n",
        "2x_{1}-5x_{2}-3x_{3}=-17, \\\\\n",
        "x_{1}+x_{2}-x_{3}=0;\n",
        "\\end{cases}$\n",
        "    \n",
        "   б) $\\begin{cases}\n",
        "2x_{1}-4x_{2}+6x_{3}=1, \\\\\n",
        "x_{1}-2x_{2}+3x_{3}=-2, \\\\\n",
        "3x_{1}-6x_{2}+9x_{3}=5;\n",
        "\\end{cases}$\n",
        "    \n",
        "   в) $\\begin{cases}\n",
        "x_{1}+2x_{2}+5x_{3}=4, \\\\\n",
        "3x_{1}+x_{2}-8x_{3}=-2. \n",
        "\\end{cases}$\n",
        "\n",
        "\n"
      ]
    },
    {
      "cell_type": "markdown",
      "metadata": {
        "id": "0PryhdpzHLoo"
      },
      "source": [
        "   а) $\\begin{cases}\n",
        "3x_{1}-x_{2}+x_{3}=4, \\\\\n",
        "2x_{1}-5x_{2}-3x_{3}=-17, \\\\\n",
        "x_{1}+x_{2}-x_{3}=0;\n",
        "\\end{cases}$ $\\begin{pmatrix}\n",
        "\\left.\\begin{matrix}\n",
        "3 & -1 & 1 \\\\ \n",
        "2 & -5 & -3 \\\\ \n",
        "1 & 1 & -1\n",
        "\\end{matrix}\\right|\n",
        "\\begin{matrix}\n",
        "4\\\\ \n",
        "-17\\\\\n",
        "0\n",
        "\\end{matrix}\n",
        "\\end{pmatrix}, (2)-(3)\\cdot2 $\n",
        "\n",
        "$\\begin{pmatrix}\n",
        "\\left.\\begin{matrix}\n",
        "3 & -1 & 1 \\\\ \n",
        "0 & -7 & -1 \\\\ \n",
        "1 & 1 & -1\n",
        "\\end{matrix}\\right|\n",
        "\\begin{matrix}\n",
        "4\\\\ \n",
        "-17\\\\\n",
        "0\n",
        "\\end{matrix}\n",
        "\\end{pmatrix},  (3)\\cdot3-(1) $\n",
        "\n",
        "$\\begin{pmatrix}\n",
        "\\left.\\begin{matrix}\n",
        "3 & -1 & 1 \\\\ \n",
        "0 & -7 & -1 \\\\ \n",
        "0 & 4 & -4\n",
        "\\end{matrix}\\right|\n",
        "\\begin{matrix}\n",
        "4\\\\ \n",
        "-17\\\\\n",
        "-4\n",
        "\\end{matrix}\n",
        "\\end{pmatrix},  (3)\\cdot1.75+(2) $\n",
        "\n",
        "$\\begin{pmatrix}\n",
        "\\left.\\begin{matrix}\n",
        "3 & -1 & 1 \\\\ \n",
        "0 & -7 & -1 \\\\ \n",
        "0 & 0 & -8\n",
        "\\end{matrix}\\right|\n",
        "\\begin{matrix}\n",
        "4\\\\ \n",
        "-17\\\\\n",
        "-24\n",
        "\\end{matrix}\n",
        "\\end{pmatrix},  (3)\\cdot1.75+(2) $"
      ]
    },
    {
      "cell_type": "markdown",
      "metadata": {
        "id": "y9RHeYCmJ0iw"
      },
      "source": [
        "$\\begin{cases}\n",
        "3x_{1}-x_{2}+x_{3}=4, \\\\\n",
        "-7x_{2}-x_{3}=-17, \\\\\n",
        "-8x_{3}=-24;\n",
        "\\end{cases}$"
      ]
    },
    {
      "cell_type": "markdown",
      "metadata": {
        "id": "HeJpqVIAKEoH"
      },
      "source": [
        "$x_{3}=3;$\n",
        "\n",
        "$-7x_{2}-3=-17 \\; \\Leftrightarrow \\; x_{2}=2;$\n",
        "\n",
        "$ 3x_{1}-2+3=4 \\; \\Leftrightarrow \\; x_{1}=1.$"
      ]
    },
    {
      "cell_type": "markdown",
      "metadata": {
        "id": "PK14P133LB-R"
      },
      "source": [
        "   б) $\\begin{cases}\n",
        "2x_{1}-4x_{2}+6x_{3}=1, \\\\\n",
        "x_{1}-2x_{2}+3x_{3}=-2, \\\\\n",
        "3x_{1}-6x_{2}+9x_{3}=5;\n",
        "\\end{cases}$ $\\begin{pmatrix}\n",
        "\\left.\\begin{matrix}\n",
        "2 & -4 & 6 \\\\ \n",
        "1 & -2 & 3 \\\\ \n",
        "3 & -6 & 9\n",
        "\\end{matrix}\\right|\n",
        "\\begin{matrix}\n",
        "1\\\\ \n",
        "-2\\\\\n",
        "5\n",
        "\\end{matrix}\n",
        "\\end{pmatrix}, (3)-(2) - (1) $\n",
        "\n",
        "$\\begin{pmatrix}\n",
        "\\left.\\begin{matrix}\n",
        "2 & -4 & 6 \\\\ \n",
        "1 & -2 & 3 \\\\ \n",
        "0 & 0 & 0\n",
        "\\end{matrix}\\right|\n",
        "\\begin{matrix}\n",
        "1\\\\ \n",
        "-2\\\\\n",
        "6\n",
        "\\end{matrix}\n",
        "\\end{pmatrix} $"
      ]
    },
    {
      "cell_type": "markdown",
      "metadata": {
        "id": "GDXr9lpGMBiU"
      },
      "source": [
        "**Система не совместна**"
      ]
    },
    {
      "cell_type": "markdown",
      "metadata": {
        "id": "daq8NeHWMK8s"
      },
      "source": [
        "в) $\\begin{cases}\n",
        "x_{1}+2x_{2}+5x_{3}=4, \\\\\n",
        "3x_{1}+x_{2}-8x_{3}=-2 \n",
        "\\end{cases}$ $\\begin{pmatrix}\n",
        "\\left.\\begin{matrix}\n",
        "1 & 2 & 5 \\\\ \n",
        "3 & 1 & -8 \n",
        "\\end{matrix}\\right|\n",
        "\\begin{matrix}\n",
        "4\\\\ \n",
        "-2\n",
        "\\end{matrix}\n",
        "\\end{pmatrix}, (2)-(1)\\cdot3 $\n",
        "\n",
        "$\\begin{pmatrix}\n",
        "\\left.\\begin{matrix}\n",
        "1 & 2 & 5 \\\\ \n",
        "0 & -5 & -23 \n",
        "\\end{matrix}\\right|\n",
        "\\begin{matrix}\n",
        "4\\\\ \n",
        "-14\n",
        "\\end{matrix}\n",
        "\\end{pmatrix}, (2)-(1)\\cdot3 $"
      ]
    },
    {
      "cell_type": "markdown",
      "metadata": {
        "id": "L7Pi6PdNN1Z4"
      },
      "source": [
        "**Данная система недопределенная и имеет бесконечное множество решений.**"
      ]
    },
    {
      "cell_type": "markdown",
      "metadata": {
        "id": "CLf-H4koAE5I"
      },
      "source": [
        "__3.__ Проверить на совместность и выяснить, сколько решений будет иметь система линейных уравнений, заданная расширенной матрицей\n",
        "\n",
        "$$\\tilde{A}=\\begin{pmatrix}\n",
        "\\left.\\begin{matrix}\n",
        "1 & 3 & -2 & 4\\\\ \n",
        "0 & 5 & 0 & 1\\\\ \n",
        "0 & 0 & 3 & 0\\\\ \n",
        "0 & 0 & 0 & 2\n",
        "\\end{matrix}\\right|\n",
        "\\begin{matrix}\n",
        "3\\\\ \n",
        "2\\\\\n",
        "4\\\\\n",
        "1\n",
        "\\end{matrix}\n",
        "\\end{pmatrix}.$$ \n",
        "\n"
      ]
    },
    {
      "cell_type": "markdown",
      "metadata": {
        "id": "_FzEpgD3PSnH"
      },
      "source": [
        "$\\begin{cases}\n",
        "x_{1}+3x_{2}-2x_{3}+4x_{4}=3 \\\\\n",
        "5x_{2}+x_{4}=2 \\\\\n",
        "3x_{3}=4 \\\\\n",
        "2x_{4}=1\n",
        "\\end{cases}$\n",
        "\n",
        "$\\begin{cases}\n",
        "x_{1}+3x_{2}-2\\cdot\\frac{4}{3}+4\\cdot\\frac{1}{2}=3 \\\\\n",
        "5x_{2}+\\frac{1}{2}=2 \\\\\n",
        "x_{3}=\\frac{4}{3} \\\\\n",
        "x_{4}=\\frac{1}{2}\n",
        "\\end{cases},\\; \\Leftrightarrow \\; \\begin{cases}\n",
        "x_{1}+3\\cdot\\frac{3}{10}-\\frac{11}{3}=0 \\\\\n",
        "x_{2}=\\frac{3}{10} \\\\\n",
        "x_{3}=\\frac{4}{3} \\\\\n",
        "x_{4}=\\frac{1}{2}\n",
        "\\end{cases}, \\; \\Leftrightarrow \\; $ $\\begin{cases}\n",
        "x_{1}=\\frac{83}{30} \\\\\n",
        "x_{2}=\\frac{3}{10} \\\\\n",
        "x_{3}=\\frac{4}{3} \\\\\n",
        "x_{4}=\\frac{1}{2} \\end{cases}$"
      ]
    },
    {
      "cell_type": "markdown",
      "metadata": {
        "id": "Xa5V8pSFTxpX"
      },
      "source": [
        "**Система уравнений совместна и имеет одно решение**"
      ]
    },
    {
      "cell_type": "markdown",
      "metadata": {
        "id": "OEi1-e69ATaC"
      },
      "source": [
        "__4.__ Дана система линейных уравнений, заданная расширенной матрицей\n",
        "\n",
        "$$\\tilde{A}=\\begin{pmatrix}\n",
        "\\left.\\begin{matrix}\n",
        "1 & 2 & 3\\\\ \n",
        "4 & 5 & 6\\\\ \n",
        "7 & 8 & 9\n",
        "\\end{matrix}\\right|\n",
        "\\begin{matrix}\n",
        "a\\\\ \n",
        "b\\\\\n",
        "c\n",
        "\\end{matrix}\n",
        "\\end{pmatrix}.$$\n",
        "\n",
        "Найти соотношение между параметрами $a$, $b$ и $c$, при которых система является несовместной."
      ]
    },
    {
      "cell_type": "markdown",
      "metadata": {
        "id": "sfqft7XvULrW"
      },
      "source": [
        "$\\tilde{A}=\\begin{pmatrix}\n",
        "\\left.\\begin{matrix}\n",
        "1 & 2 & 3\\\\ \n",
        "4 & 5 & 6\\\\ \n",
        "7 & 8 & 9\n",
        "\\end{matrix}\\right|\n",
        "\\begin{matrix}\n",
        "a\\\\ \n",
        "b\\\\\n",
        "c\n",
        "\\end{matrix}\n",
        "\\end{pmatrix}, (3)-(2), \\begin{pmatrix}\n",
        "\\left.\\begin{matrix}\n",
        "1 & 2 & 3\\\\ \n",
        "4 & 5 & 6\\\\ \n",
        "3 & 3 & 3\n",
        "\\end{matrix}\\right|\n",
        "\\begin{matrix}\n",
        "a\\\\ \n",
        "b\\\\\n",
        "c-b\n",
        "\\end{matrix}\n",
        "\\end{pmatrix}, (2)-(1), \\begin{pmatrix}\n",
        "\\left.\\begin{matrix}\n",
        "1 & 2 & 3\\\\ \n",
        "3 & 3 & 3\\\\ \n",
        "3 & 3 & 3\n",
        "\\end{matrix}\\right|\n",
        "\\begin{matrix}\n",
        "a\\\\ \n",
        "b-a\\\\\n",
        "c-b\n",
        "\\end{matrix}\n",
        "\\end{pmatrix}, (3)-(2)$"
      ]
    },
    {
      "cell_type": "markdown",
      "metadata": {
        "id": "3ur0xQqBUz88"
      },
      "source": [
        "$\\begin{pmatrix}\n",
        "\\left.\\begin{matrix}\n",
        "1 & 2 & 3\\\\ \n",
        "3 & 3 & 3\\\\ \n",
        "0 & 0 & 0\n",
        "\\end{matrix}\\right|\n",
        "\\begin{matrix}\n",
        "a\\\\ \n",
        "b-a\\\\\n",
        "c-b-b+a\n",
        "\\end{matrix}\n",
        "\\end{pmatrix}$"
      ]
    },
    {
      "cell_type": "markdown",
      "metadata": {
        "id": "RUyHIIVUU_2F"
      },
      "source": [
        "$c+a = 0\\; \\Leftrightarrow \\;c=-a$"
      ]
    },
    {
      "cell_type": "markdown",
      "metadata": {
        "id": "Rh2ByFevVNhc"
      },
      "source": [
        "**Система линейных уравнений является несовместной, когда $c\\neq a$**"
      ]
    },
    {
      "cell_type": "markdown",
      "metadata": {
        "id": "Vy4U7TLnMBzP"
      },
      "source": [
        "# Часть 2"
      ]
    },
    {
      "cell_type": "markdown",
      "metadata": {
        "id": "cu1jQCkDMDHP"
      },
      "source": [
        "__1.__ Решить систему уравнений методом Крамера:\n",
        "\n",
        "   а) $\\begin{cases}\n",
        "x_{1}-2x_{2}=1 \\\\\n",
        "3x_{1}-4x_{2}=7\n",
        "\\end{cases}$\n",
        "    \n",
        "   б) $\\begin{cases}\n",
        "2x_{1}-x_{2}+5x_{3}=10 \\\\\n",
        "x_{1}+x_{2}-3x_{3}=-2 \\\\\n",
        "2x_{1}+4x_{2}+x_{3}=1\n",
        "\\end{cases}$"
      ]
    },
    {
      "cell_type": "markdown",
      "metadata": {
        "id": "sfkWwytNMRl3"
      },
      "source": [
        "   а) $\\begin{cases}\n",
        "x_{1}-2x_{2}=1 \\\\\n",
        "3x_{1}-4x_{2}=7\n",
        "\\end{cases}$\n",
        "\n",
        "Найдем определитель матрицы коэффициентов:\n",
        "\n",
        "$detA=\\begin{vmatrix}\n",
        "1 & -2\\\\ \n",
        "3 & -4\n",
        "\\end{vmatrix}=1 \\cdot (-4)-(-2)\\cdot 3=2\\neq 0,$\n",
        "cледовательно, система совместна. \n",
        "\n",
        "Найдем определители $detA_{1}$, $detA_{2}$:\n",
        "\n",
        "$detA_{1}=\\begin{vmatrix}\n",
        "1 & -2\\\\ \n",
        "7 & -4\n",
        "\\end{vmatrix}=1 \\cdot(-4)-(-2)\\cdot 7=10,$\n",
        "\n",
        "$detA_{2}=\\begin{vmatrix}\n",
        "1 & 1 \\\\ \n",
        "3 & 7 \n",
        "\\end{vmatrix}=1 \\cdot7-1\\cdot 3=4,$\n",
        "\n",
        "Найдем решение по формулам Крамера:\n",
        "\n",
        "$x_{1} = \\frac{detA_{1}}{detA} = \\frac{10}{2}=5,$\n",
        "\n",
        "$x_{2} = \\frac{detA_{2}}{detA} = \\frac{4}{2}=2.$\n"
      ]
    },
    {
      "cell_type": "markdown",
      "metadata": {
        "id": "F4WzLQmvOq7s"
      },
      "source": [
        "**Ответ: $x_{1} = 5, x_{2} = 2$**"
      ]
    },
    {
      "cell_type": "markdown",
      "metadata": {
        "id": "Ow8va4X6O7rL"
      },
      "source": [
        "   б) $\\begin{cases}\n",
        "2x_{1}-x_{2}+5x_{3}=10 \\\\\n",
        "x_{1}+x_{2}-3x_{3}=-2 \\\\\n",
        "2x_{1}+4x_{2}+x_{3}=1\n",
        "\\end{cases}$\n",
        "\n",
        "Найдем определитель матрицы коэффициентов:\n",
        "\n",
        "$detA=\\begin{vmatrix}\n",
        "2 & -1 & 5\\\\ \n",
        "1 & 1 & -3\\\\ \n",
        "2 & 4 & 1\n",
        "\\end{vmatrix}=\n",
        "2\\begin{vmatrix}\n",
        "1 & -3\\\\ \n",
        "4 & 1 \n",
        "\\end{vmatrix}+\n",
        "\\begin{vmatrix}\n",
        "1 & -3\\\\ \n",
        "2 & 1 \n",
        "\\end{vmatrix}+5\n",
        "\\begin{vmatrix}\n",
        "1 & 1 \\\\ \n",
        "2 & 4\n",
        "\\end{vmatrix}=2(1 \\cdot 1-(-3)\\cdot 4)+(1\\cdot 1-(-3)\\cdot 2)+5(1\\cdot 4-1\\cdot 2)=26+7+10= 43\\neq 0,$\n",
        "\n",
        "следовательно, система совместна.\n",
        "\n",
        "Найдем определители $detA_{1}$, $detA_{2}$, $detA_{3}$:\n",
        "\n",
        "$detA_{1}=\\begin{vmatrix}\n",
        "10 & -1 & 5\\\\ \n",
        "-2 & 1 & -3\\\\ \n",
        "1 & 4 & 1\n",
        "\\end{vmatrix}=\n",
        "10\\begin{vmatrix}\n",
        "1 & -3\\\\ \n",
        "4 & 1 \n",
        "\\end{vmatrix}+\n",
        "\\begin{vmatrix}\n",
        "-2 & -3\\\\ \n",
        "1 & 1 \n",
        "\\end{vmatrix}+\n",
        "5\\begin{vmatrix}\n",
        "-2 & 1 \\\\ \n",
        "1 & 4\n",
        "\\end{vmatrix}=10(1 \\cdot 1-(-3)\\cdot 4)+((-2)\\cdot 1-(-3)\\cdot 1)+5((-2)\\cdot 4-1\\cdot 1)=130+1-45=86,$\n",
        "\n",
        "$detA_{2}=\\begin{vmatrix}\n",
        "2 & 10 & 5\\\\ \n",
        "1 & -2 & -3\\\\ \n",
        "2 & 1 & 1\n",
        "\\end{vmatrix}=\n",
        "2\\begin{vmatrix}\n",
        "-2 & -3\\\\ \n",
        "1 & 1 \n",
        "\\end{vmatrix}-10\n",
        "\\begin{vmatrix}\n",
        "1 & -3\\\\ \n",
        "2 & 1 \n",
        "\\end{vmatrix}+5\n",
        "\\begin{vmatrix}\n",
        "1 & -2 \\\\ \n",
        "2 & 1\n",
        "\\end{vmatrix}=2((-2) \\cdot 1-(-3)\\cdot 1)-10(1\\cdot 1-(-3)\\cdot 2)+5(1\\cdot 1-(-2\\cdot 2)=2-70+25= -43,$\n",
        "\n",
        "$detA_{3}=\\begin{vmatrix}\n",
        "2 & -1 & 10\\\\ \n",
        "1 & 1 & -2\\\\ \n",
        "2 & 4 & 1\n",
        "\\end{vmatrix}=\n",
        "2\\begin{vmatrix}\n",
        "1 & -2\\\\ \n",
        "4 & 1 \n",
        "\\end{vmatrix}+\n",
        "\\begin{vmatrix}\n",
        "1 & -2\\\\ \n",
        "2 & 1 \n",
        "\\end{vmatrix}+10\n",
        "\\begin{vmatrix}\n",
        "1 & 1 \\\\ \n",
        "2 & 4\n",
        "\\end{vmatrix}=2(1 \\cdot 1-(-2)\\cdot 4)+(1\\cdot 1-(-2)\\cdot 2)+10(1\\cdot 4-1\\cdot 2)=18+5+20= 43.$\n",
        "\n",
        "Найдем решение по формулам Крамера:\n",
        "\n",
        "$x_{1} = \\frac{detA_{1}}{detA} = \\frac{86}{43}=2,$\n",
        "\n",
        "$x_{2} = \\frac{detA_{2}}{detA} = \\frac{-43}{43}=-1,$\n",
        "\n",
        "$x_{3} = \\frac{detA_{3}}{detA} = \\frac{43}{43}=1.$\n"
      ]
    },
    {
      "cell_type": "markdown",
      "metadata": {
        "id": "KPF0n-JdUm5F"
      },
      "source": [
        "**Ответ: $x_{1} = 2, x_{2} = -1, x_{3} = 1$**"
      ]
    }
  ]
}