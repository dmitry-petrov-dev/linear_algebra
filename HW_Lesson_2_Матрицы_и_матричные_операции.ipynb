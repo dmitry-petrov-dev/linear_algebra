{
  "nbformat": 4,
  "nbformat_minor": 0,
  "metadata": {
    "colab": {
      "name": "HW_Lesson_2. Матрицы и матричные операции.ipynb",
      "provenance": [],
      "authorship_tag": "ABX9TyPR2n/wXVWlqM3nEdbiumPA",
      "include_colab_link": true
    },
    "kernelspec": {
      "name": "python3",
      "display_name": "Python 3"
    },
    "language_info": {
      "name": "python"
    }
  },
  "cells": [
    {
      "cell_type": "markdown",
      "metadata": {
        "id": "view-in-github",
        "colab_type": "text"
      },
      "source": [
        "<a href=\"https://colab.research.google.com/github/dmitry-petrov-dev/linear_algebra/blob/lesson2/HW_Lesson_2_%D0%9C%D0%B0%D1%82%D1%80%D0%B8%D1%86%D1%8B_%D0%B8_%D0%BC%D0%B0%D1%82%D1%80%D0%B8%D1%87%D0%BD%D1%8B%D0%B5_%D0%BE%D0%BF%D0%B5%D1%80%D0%B0%D1%86%D0%B8%D0%B8.ipynb\" target=\"_parent\"><img src=\"https://colab.research.google.com/assets/colab-badge.svg\" alt=\"Open In Colab\"/></a>"
      ]
    },
    {
      "cell_type": "markdown",
      "metadata": {
        "id": "wKIcuyqsK0nx"
      },
      "source": [
        "__1.__ Установить, какие произведения матриц $AB$ и $BA$ определены, и найти размерности полученных матриц:\n",
        "\n",
        "   а) $A$ — матрица $4\\times 2$, $B$ — матрица $4\\times 2$;\n",
        "    \n",
        "   б) $A$ — матрица $2\\times 5$, $B$ — матрица $5\\times 3$;\n",
        "    \n",
        "   в) $A$ — матрица $8\\times 3$, $B$ — матрица $3\\times 8$;\n",
        "    \n",
        "   г) $A$ — квадратная матрица $4\\times 4$, $B$ — квадратная матрица $4\\times 4$.\n",
        "    \n"
      ]
    },
    {
      "cell_type": "markdown",
      "metadata": {
        "id": "VMTGUR1nMOh9"
      },
      "source": [
        "a) $A(4;2)\\cdot B(4;2)$ и $B(4;2)\\cdot A(4;2)$ - не определены"
      ]
    },
    {
      "cell_type": "markdown",
      "metadata": {
        "id": "pScLQVAtNH-3"
      },
      "source": [
        "б) $A(2;5)\\cdot B(5;3)$ - не определено\n",
        "\n",
        "$B(5;3)\\cdot A(2;5)$ - определено, 2x3"
      ]
    },
    {
      "cell_type": "markdown",
      "metadata": {
        "id": "xZRESf91OxQ0"
      },
      "source": [
        "в) $A(8;3)\\cdot B(3;8)$ - определено, 3x3\n",
        "\n",
        "$B(3;8)\\cdot A(8;3)$ - определено, 8x8"
      ]
    },
    {
      "cell_type": "markdown",
      "metadata": {
        "id": "Dgbx2lROQ6UV"
      },
      "source": [
        "г) $A(4;4)\\cdot B(4;4)$ - определено, 4x4\n",
        "\n",
        "$B(4;4)\\cdot A(4;4)$ - определено, 4x4"
      ]
    },
    {
      "cell_type": "markdown",
      "metadata": {
        "id": "7HEUWs4JK1mT"
      },
      "source": [
        "__2.__ Найти сумму и произведение матриц $A=\\begin{pmatrix}\n",
        "1 & -2\\\\ \n",
        "3 & 0\n",
        "\\end{pmatrix}$ и $B=\\begin{pmatrix}\n",
        "4 & -1\\\\ \n",
        "0 & 5\n",
        "\\end{pmatrix}.$\n",
        "\n"
      ]
    },
    {
      "cell_type": "markdown",
      "metadata": {
        "id": "X1cUvYO8RZOD"
      },
      "source": [
        "$ A + B = \\begin{pmatrix}\n",
        "5 & -3\\\\ \n",
        "3 & 5\n",
        "\\end{pmatrix}$"
      ]
    },
    {
      "cell_type": "markdown",
      "metadata": {
        "id": "ZLozl4rkRqLR"
      },
      "source": [
        "$ A \\cdot B = \\begin{pmatrix}\n",
        "1\\cdot4+(-2)\\cdot0 & 1\\cdot(-1)+(-2)\\cdot5\\\\ \n",
        "3\\cdot4+0\\cdot0 & 3\\cdot(-1)+0\\cdot5\n",
        "\\end{pmatrix} = \\begin{pmatrix}\n",
        "4 & -11\\\\ \n",
        "12 & -3\n",
        "\\end{pmatrix}$"
      ]
    },
    {
      "cell_type": "markdown",
      "metadata": {
        "id": "VYxmtyvxK1sL"
      },
      "source": [
        "__3.__ Из закономерностей сложения и умножения матриц на число можно сделать вывод, что матрицы одного размера образуют линейное пространство. Вычислить линейную комбинацию $3A-2B+4C$ для матриц $A=\\begin{pmatrix}\n",
        "1 & 7\\\\ \n",
        "3 & -6\n",
        "\\end{pmatrix}$, $B=\\begin{pmatrix}\n",
        "0 & 5\\\\ \n",
        "2 & -1\n",
        "\\end{pmatrix}$, $C=\\begin{pmatrix}\n",
        "2 & -4\\\\ \n",
        "1 & 1\n",
        "\\end{pmatrix}.$\n",
        "    \n"
      ]
    },
    {
      "cell_type": "markdown",
      "metadata": {
        "id": "Kj-1_nc1U_7h"
      },
      "source": [
        "$3A=\\begin{pmatrix}\n",
        "3 & 21\\\\ \n",
        "9 & -18\n",
        "\\end{pmatrix}$"
      ]
    },
    {
      "cell_type": "markdown",
      "metadata": {
        "id": "go-HDptxVvdG"
      },
      "source": [
        "$-2B=\\begin{pmatrix}\n",
        "0 & -10\\\\ \n",
        "-4 & 2\\end{pmatrix}$"
      ]
    },
    {
      "cell_type": "markdown",
      "metadata": {
        "id": "AeN-LhZoV9m_"
      },
      "source": [
        "$4C=\\begin{pmatrix}\n",
        "8 & -16\\\\ \n",
        "4 & 4\n",
        "\\end{pmatrix}.$"
      ]
    },
    {
      "cell_type": "markdown",
      "metadata": {
        "id": "4Xy3lXe4WB7S"
      },
      "source": [
        "$3A-2B+4C = \\begin{pmatrix}\n",
        "3 & 21\\\\ \n",
        "9 & -18\n",
        "\\end{pmatrix} + \\begin{pmatrix}\n",
        "0 & -10\\\\ \n",
        "-4 & 2\\end{pmatrix} + \\begin{pmatrix}\n",
        "8 & -16\\\\ \n",
        "4 & 4\n",
        "\\end{pmatrix} = \\begin{pmatrix}\n",
        "11 & -5\\\\ \n",
        "9 & -12\n",
        "\\end{pmatrix}$"
      ]
    },
    {
      "cell_type": "markdown",
      "metadata": {
        "id": "y8M1e5whK1_1"
      },
      "source": [
        "__4.__ Дана матрица $A=\\begin{pmatrix}\n",
        "4 & 1\\\\ \n",
        "5 & -2\\\\ \n",
        "2 & 3\n",
        "\\end{pmatrix}$.\n",
        "Вычислить $AA^{T}$ и $A^{T}A$.\n"
      ]
    },
    {
      "cell_type": "markdown",
      "metadata": {
        "id": "0iiu_G0pWieH"
      },
      "source": [
        "$A^{T} = \\begin{pmatrix}\n",
        "4 & 5 & 2\\\\ \n",
        "1 & -2 & 3\n",
        "\\end{pmatrix}$"
      ]
    },
    {
      "cell_type": "markdown",
      "metadata": {
        "id": "HLeUww09W1pv"
      },
      "source": [
        "$AA^{T} = \\begin{pmatrix}\n",
        "4 & 1\\\\ \n",
        "5 & -2\\\\ \n",
        "2 & 3\n",
        "\\end{pmatrix}\\begin{pmatrix}\n",
        "4 & 5 & 2\\\\ \n",
        "1 & -2 & 3\n",
        "\\end{pmatrix} = \\begin{pmatrix}\n",
        "4\\cdot4+1\\cdot1 & 4\\cdot5+1\\cdot(-2) & 4\\cdot2 + 1\\cdot3\\\\ \n",
        "5\\cdot4-2\\cdot1 & 5\\cdot5-2\\cdot(-2) & 5\\cdot2 - 2\\cdot3\\\\ \n",
        "2\\cdot4+3\\cdot1 & 2\\cdot5+3\\cdot(-2) & 2\\cdot2 + 3\\cdot3\n",
        "\\end{pmatrix} = \\begin{pmatrix}\n",
        "17 & 18 & 11\\\\ \n",
        "18 & 29 & 4\\\\ \n",
        "11 & 4 & 13\n",
        "\\end{pmatrix}$"
      ]
    },
    {
      "cell_type": "markdown",
      "metadata": {
        "id": "nlj4dhs7ZfHm"
      },
      "source": [
        "$A^{T}A = \\begin{pmatrix}\n",
        "4 & 5 & 2\\\\ \n",
        "1 & -2 & 3\n",
        "\\end{pmatrix}\\begin{pmatrix}\n",
        "4 & 1\\\\ \n",
        "5 & -2\\\\ \n",
        "2 & 3\n",
        "\\end{pmatrix} = \\begin{pmatrix}\n",
        "4\\cdot4+5\\cdot5 + 2\\cdot2 & 4\\cdot1+5\\cdot(-2) + 2\\cdot3\\\\ \n",
        "1\\cdot4-2\\cdot5 + 3\\cdot2 & 1\\cdot1-2\\cdot(-2) + 3\\cdot3\n",
        "\\end{pmatrix} = \\begin{pmatrix}\n",
        "45 & 0 \\\\ \n",
        "0 & 14 \n",
        "\\end{pmatrix}$"
      ]
    },
    {
      "cell_type": "markdown",
      "metadata": {
        "id": "aRpz7rR9K-EK"
      },
      "source": [
        "\n",
        "__5*.__ Написать на Python функцию для перемножения двух произвольных матриц, не используя NumPy."
      ]
    },
    {
      "cell_type": "code",
      "metadata": {
        "id": "LGP3YGDIo1HN"
      },
      "source": [
        "matrix_A =[[1,2,3], [4,5,6]]\n",
        "matrix_B =[[4,5], [6,7], [8,9]]"
      ],
      "execution_count": 1,
      "outputs": []
    },
    {
      "cell_type": "code",
      "metadata": {
        "colab": {
          "base_uri": "https://localhost:8080/"
        },
        "id": "whjb_XTBlA2R",
        "outputId": "4b5a1f69-d16a-47f9-a2be-39c74d52f232"
      },
      "source": [
        "if len(matrix_A) != len(matrix_B[0]):\n",
        "    print(\"Перемножение двух матриц не допускается\")\n",
        "else:\n",
        "    matrix_result = []\n",
        "    for i in range(0,len(matrix_A)):\n",
        "      row = []\n",
        "      for j in range(0, len(matrix_B[0])):\n",
        "        cell = 0\n",
        "        for el in range(0, len(matrix_A[0])):\n",
        "          cell += matrix_A[i][el]*matrix_B[el][j]\n",
        "        row.append(cell)\n",
        "      matrix_result.append(row)\n",
        "    print(matrix_result)"
      ],
      "execution_count": 2,
      "outputs": [
        {
          "output_type": "stream",
          "text": [
            "[[40, 46], [94, 109]]\n"
          ],
          "name": "stdout"
        }
      ]
    },
    {
      "cell_type": "markdown",
      "metadata": {
        "id": "JWrS_hX7SV6E"
      },
      "source": [
        "#Часть 2"
      ]
    },
    {
      "cell_type": "markdown",
      "metadata": {
        "id": "Uusx0xZxSX0s"
      },
      "source": [
        "__1.__ Вычислить определитель:\n",
        "\n",
        "   a)\n",
        "\n",
        "$$\\begin{vmatrix}\n",
        "sinx & -cosx\\\\ \n",
        "cosx & sinx\n",
        "\\end{vmatrix};$$\n",
        "\n",
        "   б)\n",
        "    \n",
        "$$\\begin{vmatrix}\n",
        "4 & 2 & 3\\\\ \n",
        "0 & 5 & 1\\\\ \n",
        "0 & 0 & 9\n",
        "\\end{vmatrix};$$\n",
        "    \n",
        "   в)\n",
        "\n",
        "$$\\begin{vmatrix}\n",
        "1 & 2 & 3\\\\ \n",
        "4 & 5 & 6\\\\ \n",
        "7 & 8 & 9\n",
        "\\end{vmatrix}.$$\n",
        "\n"
      ]
    },
    {
      "cell_type": "markdown",
      "metadata": {
        "id": "13H0h9pkTi9c"
      },
      "source": [
        "a)"
      ]
    },
    {
      "cell_type": "markdown",
      "metadata": {
        "id": "5j5qNz7FToHb"
      },
      "source": [
        "$\\begin{vmatrix}\n",
        "sinx & -cosx\\\\ \n",
        "cosx & sinx\n",
        "\\end{vmatrix} = sin^2x+cos^2x=1$"
      ]
    },
    {
      "cell_type": "markdown",
      "metadata": {
        "id": "hMj-tdYETk7c"
      },
      "source": [
        "б)"
      ]
    },
    {
      "cell_type": "markdown",
      "metadata": {
        "id": "k_hLIcVEUMoB"
      },
      "source": [
        "$\\begin{vmatrix}\n",
        "4 & 2 & 3\\\\ \n",
        "0 & 5 & 1\\\\ \n",
        "0 & 0 & 9\n",
        "\\end{vmatrix}=4\\begin{vmatrix}\n",
        "5 & 1\\\\ \n",
        "0 & 9\n",
        "\\end{vmatrix}-2\\begin{vmatrix}\n",
        "0 & 1\\\\ \n",
        "0 & 9\n",
        "\\end{vmatrix}+3\\begin{vmatrix}\n",
        "0 & 5\\\\ \n",
        "0 & 0\n",
        "\\end{vmatrix}=4\\cdot(5\\cdot9-0\\cdot1)-2(0\\cdot9-0\\cdot1)+3(0\\cdot0-5\\cdot0)=180$"
      ]
    },
    {
      "cell_type": "markdown",
      "metadata": {
        "id": "sQk9oh5MVqjP"
      },
      "source": [
        "в)"
      ]
    },
    {
      "cell_type": "markdown",
      "metadata": {
        "id": "iW_VsrtBVr0o"
      },
      "source": [
        "$\\begin{vmatrix}\n",
        "1 & 2 & 3\\\\ \n",
        "4 & 5 & 6\\\\ \n",
        "7 & 8 & 9\n",
        "\\end{vmatrix}=1\\begin{vmatrix}\n",
        "5 & 6\\\\ \n",
        "8 & 9\n",
        "\\end{vmatrix}-2\\begin{vmatrix}\n",
        "4 & 6\\\\ \n",
        "7 & 9\n",
        "\\end{vmatrix}+3\\begin{vmatrix}\n",
        "4 & 5\\\\ \n",
        "7 & 8\n",
        "\\end{vmatrix}=1(5\\cdot9-8\\cdot6)-2(4\\cdot9-7\\cdot6)+3(4\\cdot8-7\\cdot5)= -3+12-9=0$"
      ]
    },
    {
      "cell_type": "markdown",
      "metadata": {
        "id": "8WCQGuq_Sqnq"
      },
      "source": [
        "__2.__ Определитель матрицы $A$ равен $4$. Найти:\n",
        "\n",
        "   а) $det(A^{2})$;\n",
        "    \n",
        "   б) $det(A^{T})$;\n",
        "    \n",
        "   в) $det(2A)$.\n",
        "   "
      ]
    },
    {
      "cell_type": "markdown",
      "metadata": {
        "id": "045oLK0MZ5yW"
      },
      "source": [
        "а) $det(A^{2})=det(A)\\cdot det(A)=4\\cdot4=16$"
      ]
    },
    {
      "cell_type": "markdown",
      "metadata": {
        "id": "398B_9tOdwdr"
      },
      "source": [
        "б) $det(A^{T})=det(A)=4$"
      ]
    },
    {
      "cell_type": "markdown",
      "metadata": {
        "id": "6rA5Cecid7cq"
      },
      "source": [
        "в) $det(2A)=2\\cdot4=8$"
      ]
    },
    {
      "cell_type": "markdown",
      "metadata": {
        "id": "1fT8MD6rStoG"
      },
      "source": [
        "__3.__  Доказать, что матрица\n",
        "\n",
        "$$\\begin{pmatrix}\n",
        "-2 & 7 & -3\\\\ \n",
        "4 & -14 & 6\\\\ \n",
        "-3 & 7 & 13\n",
        "\\end{pmatrix}$$\n",
        "   \n",
        "вырожденная."
      ]
    },
    {
      "cell_type": "markdown",
      "metadata": {
        "id": "up5SDvHAeWwy"
      },
      "source": [
        "$\\begin{vmatrix}\n",
        "-2 & 7 & -3\\\\ \n",
        "4 & -14 & 6\\\\ \n",
        "-3 & 7 & 13\n",
        "\\end{vmatrix} = -2\\begin{vmatrix}\n",
        "-14 & 6\\\\ \n",
        "7 & 13\n",
        "\\end{vmatrix}-7\\begin{vmatrix}\n",
        "4 & 6\\\\ \n",
        "-3 & 13\n",
        "\\end{vmatrix}-3\\begin{vmatrix}\n",
        "4 & -14\\\\ \n",
        "-3 & 7\n",
        "\\end{vmatrix}=-2(-14\\cdot13-6\\cdot7)-7(4\\cdot13+3\\cdot6)-3(4\\cdot7-3\\cdot14)=448-490+42=0 =>$ \n",
        "\n",
        "матрица вырожденная"
      ]
    },
    {
      "cell_type": "markdown",
      "metadata": {
        "id": "F9JbD-jlSwqd"
      },
      "source": [
        "__4.__ Найти ранг матрицы:\n",
        "\n",
        "   а) $\\begin{pmatrix}\n",
        "1 & 2 & 3\\\\ \n",
        "1 & 1 & 1\\\\ \n",
        "2 & 3 & 4\n",
        "\\end{pmatrix};$\n",
        "\n",
        "   б) $\\begin{pmatrix}\n",
        "0 & 0 & 2 & 1\\\\ \n",
        "0 & 0 & 2 & 2\\\\ \n",
        "0 & 0 & 4 & 3\\\\ \n",
        "2 & 3 & 5 & 6\n",
        "\\end{pmatrix}.$"
      ]
    },
    {
      "cell_type": "markdown",
      "metadata": {
        "id": "xpQFB9DBf-dR"
      },
      "source": [
        "   а) $\\begin{vmatrix}\n",
        "1 & 2 & 3\\\\ \n",
        "1 & 1 & 1\\\\ \n",
        "2 & 3 & 4\n",
        "\\end{vmatrix}$, третья строка является суммой первой и второй строк, ее можно отбросить:\n"
      ]
    },
    {
      "cell_type": "markdown",
      "metadata": {
        "id": "XVaaAQjhgNz4"
      },
      "source": [
        "$\\begin{vmatrix}\n",
        "1 & 2 & 3\\\\ \n",
        "1 & 1 & 1\n",
        "\\end{vmatrix}$ ~ $\\begin{vmatrix}\n",
        "0 & 1 & 2\\\\ \n",
        "1 & 1 & 1\n",
        "\\end{vmatrix}$ ~ $\\begin{vmatrix}\n",
        "1 & 1 & 1\\\\ \n",
        "0 & 1 & 2\n",
        "\\end{vmatrix}$"
      ]
    },
    {
      "cell_type": "markdown",
      "metadata": {
        "id": "L45iJpWThyJ8"
      },
      "source": [
        "__Ответ:__ Ранг = 2"
      ]
    },
    {
      "cell_type": "markdown",
      "metadata": {
        "id": "ZK89RR1yh4ZF"
      },
      "source": [
        "б) $\\begin{pmatrix}\n",
        "0 & 0 & 2 & 1\\\\ \n",
        "0 & 0 & 2 & 2\\\\ \n",
        "0 & 0 & 4 & 3\\\\ \n",
        "2 & 3 & 5 & 6\n",
        "\\end{pmatrix}$, третья строка является суммой первой и второй строк, ее можно отбросить:"
      ]
    },
    {
      "cell_type": "markdown",
      "metadata": {
        "id": "V1khCRnjiPOA"
      },
      "source": [
        "$\\begin{pmatrix}\n",
        "0 & 0 & 2 & 1\\\\ \n",
        "0 & 0 & 2 & 2\\\\ \n",
        "2 & 3 & 5 & 6\n",
        "\\end{pmatrix}$ ~ $\\begin{pmatrix}\n",
        "2 & 3 & 5 & 6\\\\\n",
        "0 & 0 & 2 & 1\\\\ \n",
        "0 & 0 & 2 & 2\n",
        "\\end{pmatrix}$"
      ]
    },
    {
      "cell_type": "markdown",
      "metadata": {
        "id": "-U-7G0JpkbZz"
      },
      "source": [
        "__Ответ:__ Ранг = 3"
      ]
    }
  ]
}